{
 "cells": [
  {
   "cell_type": "code",
   "execution_count": 1,
   "id": "06352e4e-daf1-4825-bc8f-b90d8aa22a87",
   "metadata": {},
   "outputs": [
    {
     "data": {
      "text/plain": [
       "'Q1)who developed python programming language\\n Ans: Guido van Rossum\\nQ2)which type of programming does python support\\nAns: Object-oriented programming and structured programming\\nQ3)is a python case sensitive when dealing with identifiers\\n Ans: Yes\\nQ4)what is correct file extension for python files\\n Ans: .py\\nQ5)is python code compiled or interpreted\\n Ans: interpreted\\nQ6)name a few blocks of code used to define in python language\\n Ans:  module,  function body, and  class definition\\nQ7)state a character used to give single line comment in python language\\n Ans: Hash character(#)\\nQ8)mention the function which can help us to find the version of python that we are currently working on\\n Ans: sys. version\\nQ9)python supports the creation of anonymous functions at runtime using a construct called\\n Ans: lambda\\nQ10)what pip stands for python\\n Ans: preferred installer program\\nQ11)mention a few built in functions in python\\n Ans: print( ) function.type( ) function.input( ) function.abs( ) function.\\nQ12)what is the maximum possible length of an identifier in python\\n Ans: 79 characters\\nQ13)what are benefits of using python\\n Ans:Data science , Wide range of use cases , Finance and trading , Security and penetration testing\\nQ14)how is memory managed in python\\n Ans: involves a private heap containing all Python objects and data structures\\nQ15)how to install python on windows and set path variable\\n Ans: Right-clicking This PC and going to Properties\\n       Clicking on the Advanced system settings in the menu on the left.\\n       Clicking on the Environment Variables button on the bottom right.\\n       In the System variables section, selecting the Path variable and clicking on Edit.\\n       The next screen will show all the directories that are currently a part of the PATH variable.\\n       Clicking on New and entering Python’s install directory. \\nQ16).Is indentation required in python?\\n  Ans : Indentation refers to the spaces at the beginning of a code line.\\n       Where in other programming languages the indentation in code is for readability of\\n       Indentation refers to the spaces at the beginning of a code line.\\n       Where in other programming languages the indentation in code is for readability only,\\n       the indentation in Python is very important. Python uses indentation to indicate a block of code'"
      ]
     },
     "execution_count": 1,
     "metadata": {},
     "output_type": "execute_result"
    }
   ],
   "source": [
    "# Q1)who developed python programming language\n",
    "#  Ans: Guido van Rossum\n",
    "# Q2)which type of programming does python support\n",
    "# Ans: Object-oriented programming and structured programming\n",
    "# Q3)is a python case sensitive when dealing with identifiers\n",
    "#  Ans: Yes\n",
    "# Q4)what is correct file extension for python files\n",
    "#  Ans: .py\n",
    "# Q5)is python code compiled or interpreted\n",
    "#  Ans: interpreted\n",
    "# Q6)name a few blocks of code used to define in python language\n",
    "#  Ans:  module,  function body, and  class definition\n",
    "# Q7)state a character used to give single line comment in python language\n",
    "#  Ans: Hash character(#)\n",
    "# Q8)mention the function which can help us to find the version of python that we are currently working on\n",
    "#  Ans: sys. version\n",
    "# Q9)python supports the creation of anonymous functions at runtime using a construct called\n",
    "#  Ans: lambda\n",
    "# Q10)what pip stands for python\n",
    "#  Ans: preferred installer program\n",
    "# Q11)mention a few built in functions in python\n",
    "#  Ans: print( ) function.type( ) function.input( ) function.abs( ) function.\n",
    "# Q12)what is the maximum possible length of an identifier in python\n",
    "#  Ans: 79 characters\n",
    "# Q13)what are benefits of using python\n",
    "#  Ans:Data science , Wide range of use cases , Finance and trading , Security and penetration testing\n",
    "# Q14)how is memory managed in python\n",
    "#  Ans: involves a private heap containing all Python objects and data structures\n",
    "# Q15)how to install python on windows and set path variable\n",
    "#  Ans: Right-clicking This PC and going to Properties\n",
    "#        Clicking on the Advanced system settings in the menu on the left.\n",
    "#        Clicking on the Environment Variables button on the bottom right.\n",
    "#        In the System variables section, selecting the Path variable and clicking on Edit.\n",
    "#        The next screen will show all the directories that are currently a part of the PATH variable.\n",
    "#        Clicking on New and entering Python’s install directory. \n",
    "# Q16).Is indentation required in python?\n",
    "#   Ans : Indentation refers to the spaces at the beginning of a code line.\n",
    "#        Where in other programming languages the indentation in code is for readability of\n",
    "#        Indentation refers to the spaces at the beginning of a code line.\n",
    "#        Where in other programming languages the indentation in code is for readability only,\n",
    "#        the indentation in Python is very important. Python uses indentation to indicate a block of code     \n"
   ]
  },
  {
   "cell_type": "code",
   "execution_count": null,
   "id": "ca430fba-e87d-48cf-9954-bbe1a1a48cf7",
   "metadata": {},
   "outputs": [],
   "source": []
  }
 ],
 "metadata": {
  "kernelspec": {
   "display_name": "Python 3 (ipykernel)",
   "language": "python",
   "name": "python3"
  },
  "language_info": {
   "codemirror_mode": {
    "name": "ipython",
    "version": 3
   },
   "file_extension": ".py",
   "mimetype": "text/x-python",
   "name": "python",
   "nbconvert_exporter": "python",
   "pygments_lexer": "ipython3",
   "version": "3.10.8"
  }
 },
 "nbformat": 4,
 "nbformat_minor": 5
}
